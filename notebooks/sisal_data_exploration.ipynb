{
 "cells": [
  {
   "cell_type": "markdown",
   "id": "4bdff079",
   "metadata": {},
   "source": [
    "Inspired from the script sisal3_extractCSVdata.py provided by Jens Fohlmeister in sisalv3 dataset [(which can be dowloaded here)](https://ora.ox.ac.uk/objects/uuid:1e91e2ac-ca9f-46e5-85f3-8d82d4d3cfd4)"
   ]
  },
  {
   "cell_type": "code",
   "execution_count": 1,
   "id": "b48da4b0",
   "metadata": {},
   "outputs": [],
   "source": [
    "import numpy as np\n",
    "import pandas as pd\n",
    "import os\n",
    "import plotly.graph_objects as go\n",
    "import matplotlib.pyplot as plt\n",
    "plt.close(\"all\")    # close all open figures  "
   ]
  },
  {
   "cell_type": "markdown",
   "id": "9c94018b",
   "metadata": {},
   "source": [
    "First, read the SISAL csv files "
   ]
  },
  {
   "cell_type": "code",
   "execution_count": 2,
   "id": "335852d2",
   "metadata": {},
   "outputs": [],
   "source": [
    "# read all sisalv3.csv files\n",
    "os.chdir(\"../data/sisalv3_csv\")\n",
    "\n",
    "entity_df = pd.read_csv('entity.csv')\n",
    "d18O_df   = pd.read_csv(\"d18O.csv\")\n",
    "dating_df = pd.read_csv(\"dating.csv\")\n",
    "\n",
    "# d13C = pd.read_csv(\"d13C.csv\")\n",
    "# MgCa = pd.read_csv(\"Mg_Ca.csv\")\n",
    "\n",
    "# some columns of the database have a number on the first position of their name which would produce errors in python\n",
    "dating_df.rename(columns = {'238U_content':'c238U_content','238U_uncertainty':'c238U_uncertainty',\n",
    "    '232Th_content':'c232Th_content','c232Th_uncertainty':'c232Th_uncertainty',\n",
    "    '230Th_content':'c230Th_content','c230Th_uncertainty':'c230Th_uncertainty',\n",
    "    '230Th_232Th_ratio':'a230Th_232Th_ratio','230Th_232Th_ratio_uncertainty':'a230Th_232Th_ratio_uncertainty',\n",
    "    '230Th_238U_activity':'a230Th_238U_activity','230Th_238U_activity_uncertainty':'a230Th_238U_activity_uncertainty',\n",
    "    '234U_238U_activity':'a234U_238U_activity','234U_238U_activity_uncertainty':'a234U_238U_activity_uncertainty'},\n",
    "    inplace = True)\n",
    "\n",
    "entity_link_reference_df = pd.read_csv(\"entity_link_reference.csv\")\n",
    "original_chronology_df   = pd.read_csv(\"original_chronology.csv\")\n",
    "reference_df             = pd.read_csv(\"reference.csv\")\n",
    "sample_df                = pd.read_csv(\"sample.csv\")\n",
    "sisal_chronology_df      = pd.read_csv(\"sisal_chronology.csv\")\n",
    "site_df                  = pd.read_csv(\"site.csv\")\n",
    "os.chdir('../../notebooks')"
   ]
  },
  {
   "cell_type": "markdown",
   "id": "648527ee",
   "metadata": {},
   "source": [
    "Define time range of interest to truncate the data. "
   ]
  },
  {
   "cell_type": "code",
   "execution_count": 3,
   "id": "08acf405",
   "metadata": {},
   "outputs": [
    {
     "name": "stdout",
     "output_type": "stream",
     "text": [
      "number of samples with C14 dates is 0.9821724382740395\n",
      "35 entities were removed (not enough dated depths)\n"
     ]
    }
   ],
   "source": [
    "# Extract required data from speleothems covering the period of interest\n",
    "#   + provides all entities, which include non-14C ages and non-events  \n",
    "#     during the time period\n",
    "\n",
    "low = 0         # defines minimum age [a]\n",
    "high = 500000    # defines maximum age [a] # 500'000 = U/Th datation limit, 50'000 = C14 limit\n",
    "\n",
    "# Corrected age = corr_age = adjusted for detrital contamination\n",
    "# Corrected calibrated age = c14 date_type = adjusted for dead carbon\n",
    "dating_trunc = dating_df.loc[(dating_df['corr_age'] >= low) \n",
    "                         &(dating_df['corr_age'] <= high) \n",
    "                         &(dating_df['date_type'].str.find('Event')!=0)\n",
    "                         ] # (dating['date_type']!='C14') &  ## Jens excluded C14 dates but for now i do not see why i should exclude them\n",
    "print(f'number of samples with C14 dates is {len(dating_trunc.loc[dating_df['date_type']!='C14'])/len(dating_trunc)}')\n",
    "\n",
    "entities_array = dating_trunc['entity_id'].to_numpy()\n",
    "entities = np.unique(entities_array) \n",
    "\n",
    "# Remove all entities with less than 'n' dated depths\n",
    "n = 3\n",
    "j=0\n",
    "for i in np.arange(0,len(entities)):\n",
    "    entity_count = dating_trunc.entity_id[dating_trunc.entity_id==entities[i]].count()\n",
    "    if entity_count < n:\n",
    "        j=j+1\n",
    "        dating_trunc = dating_trunc[dating_trunc.entity_id!=entities[i]].copy()\n",
    "print(f'{j} entities were removed (not enough dated depths)')\n",
    "\n",
    "entities_array = dating_trunc['entity_id'].to_numpy()\n",
    "entities = np.unique(entities_array)  # provides all entities, which include >= 'n' dated depths during the required time period\n"
   ]
  },
  {
   "cell_type": "markdown",
   "id": "f7b6bf23",
   "metadata": {},
   "source": [
    "Compute the mean d18Oc and save it in csv "
   ]
  },
  {
   "cell_type": "code",
   "execution_count": 4,
   "id": "887d6301",
   "metadata": {},
   "outputs": [
    {
     "name": "stdout",
     "output_type": "stream",
     "text": [
      "number of entities :  811\n",
      "Number: 0 ['BT-1']\n",
      "Number: 1 ['BT-2.1']\n",
      "Number: 2 ['BT-2.2']\n",
      "Number: 3 ['BT-2.3']\n",
      "Number: 4 ['BT-2.4']\n",
      "Number: 5 ['BT-2.5']\n",
      "Number: 6 ['BT-4']\n"
     ]
    },
    {
     "name": "stderr",
     "output_type": "stream",
     "text": [
      "/tmp/ipykernel_109180/1244612456.py:28: DeprecationWarning: Conversion of an array with ndim > 0 to a scalar is deprecated, and will error in future. Ensure you extract a single element from your array before performing this operation. (Deprecated NumPy 1.25.)\n",
      "  site_id[n]     = entity_df.site_id[(entity_df['entity_id'] == entities[n])].to_numpy()\n",
      "/tmp/ipykernel_109180/1244612456.py:29: DeprecationWarning: Conversion of an array with ndim > 0 to a scalar is deprecated, and will error in future. Ensure you extract a single element from your array before performing this operation. (Deprecated NumPy 1.25.)\n",
      "  entity_id[n]   = entity_df.entity_id[(entity_df['entity_id'] == entities[n])].to_numpy()\n",
      "/tmp/ipykernel_109180/1244612456.py:32: FutureWarning: Calling float on a single element Series is deprecated and will raise a TypeError in the future. Use float(ser.iloc[0]) instead\n",
      "  lon[n]         = site_df.longitude[(site_df['site_id'] == site_id[n]).to_numpy()]\n",
      "/tmp/ipykernel_109180/1244612456.py:33: FutureWarning: Calling float on a single element Series is deprecated and will raise a TypeError in the future. Use float(ser.iloc[0]) instead\n",
      "  lat[n]         = site_df.latitude[(site_df['site_id'] == site_id[n]).to_numpy()]\n"
     ]
    },
    {
     "name": "stdout",
     "output_type": "stream",
     "text": [
      "Number: 7 ['BT-6']\n",
      "Number: 8 ['BT-8']\n",
      "Number: 9 ['BT-9']\n",
      "Number: 10 ['KS06-A-H']\n",
      "Number: 11 ['KS06-A']\n",
      "Number: 12 ['KS06-B']\n",
      "Number: 13 ['KS08-1-H']\n",
      "Number: 14 ['KS08-1']\n",
      "Number: 15 ['KS08-2-H']\n",
      "Number: 16 ['KS08-2']\n",
      "Number: 17 ['KS08-6']\n",
      "Number: 18 ['PAR01']\n",
      "Number: 19 ['PAR03']\n",
      "Number: 20 ['PAR06']\n",
      "Number: 21 ['PAR07']\n",
      "Number: 22 ['PAR08']\n",
      "Number: 23 ['PAR16']\n",
      "Number: 24 ['PAR24']\n",
      "Number: 25 ['Vil-stm6']\n",
      "Number: 26 ['Vil-stm9']\n",
      "Number: 27 ['Vil-stm11']\n",
      "Number: 28 ['Vil-stm14']\n",
      "Number: 29 ['Vil-stm27']\n",
      "Number: 30 ['Vil-car1']\n",
      "Number: 31 ['Vil-stm1']\n",
      "Number: 32 ['YK5']\n",
      "Number: 33 ['YK12']\n",
      "Number: 34 ['YK23']\n",
      "Number: 35 ['YK61']\n",
      "Number: 36 ['JFYK7']\n",
      "Number: 37 ['MSD']\n",
      "Number: 38 ['MSL']\n",
      "Number: 39 ['PD']\n",
      "Number: 40 ['YT']\n",
      "Number: 41 ['T5']\n",
      "Number: 42 ['T7_1999']\n",
      "Number: 43 ['T7_2001']\n",
      "Number: 44 ['T8']\n",
      "Number: 45 ['T7_2013']\n",
      "Number: 46 ['LH-70s-1']\n",
      "Number: 47 ['LH-70s-2']\n",
      "Number: 48 ['LH-70s-3']\n",
      "Number: 49 ['TON-1']\n",
      "Number: 50 ['TON-2']\n",
      "Number: 51 ['JAR7']\n",
      "Number: 52 ['JAR14']\n",
      "Number: 53 ['JAR13']\n",
      "Number: 54 ['Jeita-1']\n",
      "Number: 55 ['Jeita-2']\n",
      "Number: 56 ['Jeita-3']\n",
      "Number: 57 ['KM-A']\n",
      "Number: 58 ['MWS-1']\n",
      "Number: 59 ['MAW-6']\n",
      "Number: 60 ['BGC-6']\n",
      "Number: 61 ['BGC-11_2013']\n",
      "Number: 62 ['BGC-14']\n",
      "Number: 63 ['LMC-14']\n",
      "Number: 64 ['LMC-21']\n",
      "Number: 65 ['LC-2']\n",
      "Number: 66 ['BA-1b']\n",
      "Number: 67 ['BA-1']\n",
      "Number: 68 ['BA-2']\n",
      "Number: 69 ['Han-stm1']\n",
      "Number: 70 ['Han-9']\n",
      "Number: 71 ['HY1']\n",
      "Number: 72 ['HY2']\n",
      "Number: 73 ['Kanaan_MIS5']\n",
      "Number: 74 ['Kanaan_MIS6']\n",
      "Number: 75 ['SC02']\n",
      "Number: 76 ['SC03']\n",
      "Number: 77 ['LG11']\n",
      "Number: 78 ['LG3']\n",
      "Number: 79 ['LSF16']\n",
      "Number: 80 ['LSF3_2015']\n",
      "Number: 81 ['PAL3']\n",
      "Number: 82 ['PAL4']\n",
      "Number: 83 ['FM3']\n",
      "Number: 84 ['Oks82']\n",
      "Number: 85 ['TM0']\n",
      "Number: 86 ['TM2']\n",
      "Number: 87 ['VSPM1']\n",
      "Number: 88 ['VSPM4']\n",
      "Number: 89 ['MC-S1']\n",
      "Number: 90 ['MC-S2']\n",
      "Number: 91 ['LII4']\n",
      "Number: 92 ['LII4-KH']\n",
      "Number: 93 ['ABA_1']\n",
      "Number: 94 ['ABA_2']\n",
      "Number: 95 ['MAJ-5']\n",
      "Number: 96 ['Bero-1']\n",
      "Number: 97 ['CBD-2']\n",
      "Number: 98 ['CUR4']\n",
      "Number: 99 ['DY-1']\n",
      "Number: 100 ['DV2']\n",
      "Number: 101 ['D3']\n",
      "Number: 102 ['D4_2004']\n",
      "Number: 103 ['GEX-SPA']\n",
      "Number: 104 ['FG01']\n",
      "Number: 105 ['IFK1']\n",
      "Number: 106 ['KL 3']\n",
      "Number: 107 ['GK-09-02']\n",
      "Number: 108 ['BW-1']\n",
      "Number: 109 ['L4']\n",
      "Number: 110 ['L03']\n",
      "Number: 111 ['LC-1']\n",
      "Number: 112 ['ML1']\n",
      "Number: 113 ['MC3']\n",
      "Number: 114 ['NBJ']\n",
      "Number: 115 ['ALHO6']\n",
      "Number: 116 ['YD01']\n",
      "Number: 117 ['SAH-A']\n",
      "Number: 118 ['SAH-B']\n",
      "Number: 119 ['7H-2']\n",
      "Number: 120 ['7H-3']\n",
      "Number: 121 ['MAR_L']\n",
      "Number: 122 ['SG95']\n",
      "Number: 123 ['SPA12']\n",
      "Number: 124 ['SPA70']\n",
      "Number: 125 ['SPA128']\n",
      "Number: 126 ['SPA127']\n",
      "Number: 127 ['SZ2']\n",
      "Number: 128 ['Taurius']\n",
      "Number: 129 ['T1']\n",
      "Number: 130 ['TR5']\n",
      "Number: 131 ['Chaac']\n",
      "Number: 132 ['WS-B']\n",
      "Number: 133 ['WR5']\n",
      "Number: 134 ['WSC-97-10-5']\n",
      "Number: 135 ['Squeeze1']\n",
      "Number: 136 ['AF12']\n",
      "Number: 137 ['XL-1']\n",
      "Number: 138 ['SPA133']\n",
      "Number: 139 ['AB-DC-01']\n",
      "Number: 140 ['AB-DC-03']\n",
      "Number: 141 ['AB-DC-12']\n",
      "Number: 142 ['AB-DC-09']\n",
      "Number: 143 ['BAR-II#L']\n",
      "Number: 144 ['BAR-II#B']\n",
      "Number: 145 ['POM2']\n",
      "Number: 146 ['BDinf']\n",
      "Number: 147 ['V3']\n",
      "Number: 148 ['CWN4']\n",
      "Number: 149 ['CC-1']\n",
      "Number: 150 ['Chau-stm6']\n",
      "Number: 151 ['CHIL-1']\n",
      "Number: 152 ['Dim-E2']\n",
      "Number: 153 ['Dim-E3']\n",
      "Number: 154 ['Dim-E4']\n",
      "Number: 155 ['FR-5']\n",
      "Number: 156 ['FR-0510']\n",
      "Number: 157 ['stm2']\n",
      "Number: 158 ['stm4']\n",
      "Number: 159 ['HW-3']\n",
      "Number: 160 ['Min-stm1']\n",
      "Number: 161 ['Leany']\n",
      "Number: 162 ['MC01']\n",
      "Number: 163 ['MOD-22']\n",
      "Number: 164 ['Candela']\n",
      "Number: 165 ['Trio']\n",
      "Number: 166 ['PU-2']\n",
      "Number: 167 ['Keklik1']\n",
      "Number: 168 ['GC08']\n",
      "Number: 169 ['AB3']\n",
      "Number: 170 ['AB2']\n",
      "Number: 171 ['MA3']\n",
      "Number: 172 ['ANJB-2']\n",
      "Number: 173 ['BC01-07']\n",
      "Number: 174 ['BMS1']\n",
      "Number: 175 ['CC3']\n",
      "Number: 176 ['DP1_2013']\n",
      "Number: 177 ['DP1_2016']\n",
      "Number: 178 ['K1']\n",
      "Number: 179 ['K3']\n",
      "Number: 180 ['PFU6']\n",
      "Number: 181 ['K11']\n",
      "Number: 182 ['LR06-B1_2009']\n",
      "Number: 183 ['LR06-B3_2009']\n",
      "Number: 184 ['SCH-5']\n",
      "Number: 185 ['SCH-7']\n",
      "Number: 186 ['SE09-6']\n",
      "Number: 187 ['YOKI']\n",
      "Number: 188 ['YOKG']\n",
      "Number: 189 ['Cla4']\n",
      "Number: 190 ['CL26']\n",
      "Number: 191 ['LR07-E1']\n",
      "Number: 192 ['MO-1']\n",
      "Number: 193 ['MO-7']\n",
      "Number: 194 ['ME-12']\n",
      "Number: 195 ['RN1']\n",
      "Number: 196 ['RN4']\n",
      "Number: 197 ['XY-2']\n",
      "Number: 198 ['XY07-8']\n",
      "Number: 199 ['LR07-A8']\n",
      "Number: 200 ['LR07-A9']\n",
      "Number: 201 ['LR07-E11']\n",
      "Number: 202 ['LR06-B1_2016']\n",
      "Number: 203 ['LR06-B3_2016']\n",
      "Number: 204 ['PX7_2015']\n",
      "Number: 205 ['Ach-1']\n",
      "Number: 206 ['HOL-7']\n",
      "Number: 207 ['HOL-16']\n",
      "Number: 208 ['HOL-17']\n",
      "Number: 209 ['HOL-18']\n",
      "Number: 210 ['HOL-10']\n",
      "Number: 211 ['BA04']\n",
      "Number: 212 ['BA03_decadal']\n",
      "Number: 213 ['BA02']\n",
      "Number: 214 ['Bu1']\n",
      "Number: 215 ['Bu2_2012']\n",
      "Number: 216 ['Bu4']\n",
      "Number: 217 ['Bu6']\n",
      "Number: 218 ['FC12-12']\n",
      "Number: 219 ['FC12-14']\n",
      "Number: 220 ['FC12-15']\n",
      "Number: 221 ['ASR']\n",
      "Number: 222 ['ASM']\n",
      "Number: 223 ['HOR']\n",
      "Number: 224 ['ARTEMISA']\n",
      "Number: 225 ['TKS']\n",
      "Number: 226 ['HS4_2008']\n",
      "Number: 227 ['HS4_2013']\n",
      "Number: 228 ['MB-2']\n",
      "Number: 229 ['MB-3']\n",
      "Number: 230 ['MB-5']\n",
      "Number: 231 ['MB-6']\n",
      "Number: 232 ['PC-1']\n",
      "Number: 233 ['MF-3']\n",
      "Number: 234 ['SPA121']\n",
      "Number: 235 ['TC1']\n",
      "Number: 236 ['XBL-3']\n",
      "Number: 237 ['XBL-4']\n",
      "Number: 238 ['XBL-7']\n",
      "Number: 239 ['XBL-26']\n",
      "Number: 240 ['XBL-27']\n",
      "Number: 241 ['XBL-29']\n",
      "Number: 242 ['XBL-48']\n",
      "Number: 243 ['XBL-65']\n",
      "Number: 244 ['BCC-2']\n",
      "Number: 245 ['BCC-4']\n",
      "Number: 246 ['BCC-6']\n",
      "Number: 247 ['BCC-8']\n",
      "Number: 248 ['BCC-10_2014']\n",
      "Number: 249 ['CR1']\n",
      "Number: 250 ['DAN-D']\n",
      "Number: 251 ['ER76']\n",
      "Number: 252 ['SPA_126']\n",
      "Number: 253 ['SPA_49']\n",
      "Number: 254 ['RL4_2006']\n",
      "Number: 255 ['RL4_2016']\n",
      "Number: 256 ['COB-01-02']\n",
      "Number: 257 ['BA03_highres']\n",
      "Number: 258 ['JX-6']\n",
      "Number: 259 ['JX-2']\n",
      "Number: 260 ['JX-10']\n",
      "Number: 261 ['JX-7']\n",
      "Number: 262 ['KC-1']\n",
      "Number: 263 ['KC-3']\n",
      "Number: 264 ['M1-5']\n",
      "Number: 265 ['OCNM02-1']\n",
      "Number: 266 ['SB-10_2009']\n",
      "Number: 267 ['SB-26_2009']\n",
      "Number: 268 ['SB-27']\n",
      "Number: 269 ['SB-43']\n",
      "Number: 270 ['SB-44']\n",
      "Number: 271 ['SB-49']\n",
      "Number: 272 ['SB-12']\n",
      "Number: 273 ['SB-14']\n",
      "Number: 274 ['SB-58']\n",
      "Number: 275 ['SO-1']\n",
      "Number: 276 ['TM-2']\n",
      "Number: 277 ['TM-5']\n",
      "Number: 278 ['TM-18a']\n",
      "Number: 279 ['TM-18b']\n",
      "Number: 280 ['ESP03']\n",
      "Number: 281 ['BTV21a']\n",
      "Number: 282 ['BT-2']\n",
      "Number: 283 ['CC-1_2004']\n",
      "Number: 284 ['CC-5_2005']\n",
      "Number: 285 ['CC-28_2007']\n",
      "Number: 286 ['CC-1_2009']\n",
      "Number: 287 ['CC-5_2009']\n",
      "Number: 288 ['CC-7_2009']\n",
      "Number: 289 ['SSC01']\n",
      "Number: 290 ['SCH02']\n",
      "Number: 291 ['FS2_2012']\n",
      "Number: 292 ['FS2_2010']\n",
      "Number: 293 ['D8']\n",
      "Number: 294 ['ED1']\n",
      "Number: 295 ['GT05-5']\n",
      "Number: 296 ['H5']\n",
      "Number: 297 ['JHU-1']\n",
      "Number: 298 ['C996-1']\n",
      "Number: 299 ['C996-2']\n",
      "Number: 300 ['KNI-51-0']\n",
      "Number: 301 ['KNI-51-3']\n",
      "Number: 302 ['KNI-51-4']\n",
      "Number: 303 ['KNI-51-7']\n",
      "Number: 304 ['KNI-51-10']\n",
      "Number: 305 ['KNI-51-11']\n",
      "Number: 306 ['KNI-51-C']\n",
      "Number: 307 ['KNI-51-F']\n",
      "Number: 308 ['KNI-51-G']\n",
      "Number: 309 ['KNI-51-H']\n",
      "Number: 310 ['KNI-51-I']\n",
      "Number: 311 ['KNI-51-N']\n",
      "Number: 312 ['KNI-51-O']\n",
      "Number: 313 ['S1']\n",
      "Number: 314 ['Mun-stm2']\n",
      "Number: 315 ['Mun-stm1']\n",
      "Number: 316 ['MD3']\n",
      "Number: 317 ['Q5']\n",
      "Number: 318 ['2-6-HR']\n",
      "Number: 319 ['2N-HR']\n",
      "Number: 320 ['Aurora 3']\n",
      "Number: 321 ['Calcite']\n",
      "Number: 322 ['GG1']\n",
      "Number: 323 ['GG2']\n",
      "Number: 324 ['Maxs']\n",
      "Number: 325 ['RK-C']\n",
      "Number: 326 ['TR-A']\n",
      "Number: 327 ['TR-B']\n",
      "Number: 328 ['Waiau']\n",
      "Number: 329 ['WP1']\n",
      "Number: 330 ['Doubtful Xanadu']\n",
      "Number: 331 ['LR06-B3_2013']\n",
      "Number: 332 ['LR06-C2']\n",
      "Number: 333 ['LR06-C3_2013']\n",
      "Number: 334 ['LR06-C5']\n",
      "Number: 335 ['LR06-C6']\n",
      "Number: 336 ['DH2']\n",
      "Number: 337 ['DH2-D']\n",
      "Number: 338 ['DH2-E Terminal1']\n",
      "Number: 339 ['DH2-E Terminal2']\n",
      "Number: 340 ['W5']\n",
      "Number: 341 ['PDR-1']\n",
      "Number: 342 ['ZLP1']\n",
      "Number: 343 ['ZLP2']\n",
      "Number: 344 ['RL4_2018']\n",
      "Number: 345 ['QT9']\n",
      "Number: 346 ['QT24']\n",
      "Number: 347 ['QT40']\n",
      "Number: 348 ['QT41']\n",
      "Number: 349 ['QT25']\n",
      "Number: 350 ['CM_2013']\n",
      "Number: 351 ['Y1']\n",
      "Number: 352 ['C09-2']\n",
      "Number: 353 ['10FC-02']\n",
      "Number: 354 ['05FC-04']\n",
      "Number: 355 ['NK']\n",
      "Number: 356 ['CP']\n",
      "Number: 357 ['EXC3']\n",
      "Number: 358 ['EXC4']\n",
      "Number: 359 ['JB2']\n",
      "Number: 360 ['CB25']\n",
      "Number: 361 ['CB39']\n",
      "Number: 362 ['CB47']\n",
      "Number: 363 ['CH-7']\n",
      "Number: 364 ['CH04-02']\n",
      "Number: 365 ['CWC-1s']\n",
      "Number: 366 ['CWC-2ss']\n",
      "Number: 367 ['CWC-3l']\n",
      "Number: 368 ['DIB-1']\n",
      "Number: 369 ['DIB-2']\n",
      "Number: 370 ['FR16']\n",
      "Number: 371 ['GC_2']\n",
      "Number: 372 ['HC-1']\n",
      "Number: 373 ['H14']\n",
      "Number: 374 ['K1']\n",
      "Number: 375 ['KC1']\n",
      "Number: 376 ['KNI-51-A1']\n",
      "Number: 377 ['KNI-51-P']\n",
      "Number: 378 ['A1']\n",
      "Number: 379 ['Lynds_BCD']\n",
      "Number: 380 ['MC08-1']\n",
      "Number: 381 ['MN1']\n",
      "Number: 382 ['GG1']\n",
      "Number: 383 ['IS1']\n",
      "Number: 384 ['PP10']\n",
      "Number: 385 ['SO-17A']\n",
      "Number: 386 ['SBE3']\n",
      "Number: 387 ['SMT5']\n",
      "Number: 388 ['Sha-2']\n",
      "Number: 389 ['Sha-3']\n",
      "Number: 390 ['SG93']\n",
      "Number: 391 ['TA12-2']\n",
      "Number: 392 ['Uluu2']\n",
      "Number: 393 ['WMC1']\n",
      "Number: 394 ['X3']\n",
      "Number: 395 ['GU-Xi-1']\n",
      "Number: 396 ['YB']\n",
      "Number: 397 ['DA_2005']\n",
      "Number: 398 ['CG']\n",
      "Number: 399 ['DM05-01']\n",
      "Number: 400 ['ML2']\n",
      "Number: 401 ['D4_2005']\n",
      "Number: 402 ['JAR4']\n",
      "Number: 403 ['JAR1']\n",
      "Number: 404 ['K1']\n",
      "Number: 405 ['PEK 10']\n",
      "Number: 406 ['PEK 9']\n",
      "Number: 407 ['PEK 6']\n",
      "Number: 408 ['SO-2']\n",
      "Number: 409 ['1152']\n",
      "Number: 410 ['C126-117']\n",
      "Number: 411 ['C126-118']\n",
      "Number: 412 ['Cha2_2018']\n",
      "Number: 413 ['D1']\n",
      "Number: 414 ['D2']\n",
      "Number: 415 ['EM1']\n",
      "Number: 416 ['GP5']\n",
      "Number: 417 ['NH33']\n",
      "Number: 418 ['SN17']\n",
      "Number: 419 ['BN-1']\n",
      "Number: 420 ['LAVI-4']\n",
      "Number: 421 ['PATA-1']\n",
      "Number: 422 ['WX42B']\n",
      "Number: 423 ['XL16']\n",
      "Number: 424 ['XL2']\n",
      "Number: 425 ['XL26']\n",
      "Number: 426 ['DA_2009']\n",
      "Number: 427 ['ML.1']\n",
      "Number: 428 ['ML.2']\n",
      "Number: 429 ['SAH-2']\n",
      "Number: 430 ['SAH-3']\n",
      "Number: 431 ['SAH-6']\n",
      "Number: 432 ['M1-2']\n",
      "Number: 433 ['SB3']\n",
      "Number: 434 ['SB-10_2008']\n",
      "Number: 435 ['SB11']\n",
      "Number: 436 ['SB22']\n",
      "Number: 437 ['SB23']\n",
      "Number: 438 ['SB24']\n",
      "Number: 439 ['SB25-1']\n",
      "Number: 440 ['SB25-2']\n",
      "Number: 441 ['SB-26_2008']\n",
      "Number: 442 ['SB34']\n",
      "Number: 443 ['SB41']\n",
      "Number: 444 ['SB42']\n",
      "Number: 445 ['TF']\n",
      "Number: 446 ['KM-1']\n",
      "Number: 447 ['LH-2']\n",
      "Number: 448 ['Boto 3']\n",
      "Number: 449 ['Boto 7']\n",
      "Number: 450 ['NAR-C']\n",
      "Number: 451 ['NAR-C-D']\n",
      "Number: 452 ['NAR-C-F']\n",
      "Number: 453 ['NAR-D']\n",
      "Number: 454 ['NAR-F']\n",
      "Number: 455 ['EC-16-5-F']\n",
      "Number: 456 ['BC-11']\n",
      "Number: 457 ['MAG']\n",
      "Number: 458 ['P09PH2']\n",
      "Number: 459 ['Itzamna']\n",
      "Number: 460 ['KR1']\n",
      "Number: 461 ['St8-a']\n",
      "Number: 462 ['St8-b']\n",
      "Number: 463 ['NC-A']\n",
      "Number: 464 ['NC-B']\n",
      "Number: 465 ['TBV40']\n",
      "Number: 466 ['TBV63']\n",
      "Number: 467 ['Boto 10']\n",
      "Number: 468 ['BLK12B']\n",
      "Number: 469 ['AN4']\n",
      "Number: 470 ['AN8']\n",
      "Number: 471 ['GB09-03']\n",
      "Number: 472 ['GB11-09']\n",
      "Number: 473 ['HZZ-11']\n",
      "Number: 474 ['HZZ-27']\n",
      "Number: 475 ['KG-6']\n",
      "Number: 476 ['LH1']\n",
      "Number: 477 ['LH4']\n",
      "Number: 478 ['LH5']\n",
      "Number: 479 ['LH9']\n",
      "Number: 480 ['LH30']\n",
      "Number: 481 ['NK-1305']\n",
      "Number: 482 ['SR02']\n",
      "Number: 483 ['SQ1']\n",
      "Number: 484 ['SQ7']\n",
      "Number: 485 ['SG1']\n",
      "Number: 486 ['SG2']\n",
      "Number: 487 ['ZZ12']\n",
      "Number: 488 ['AD4']\n",
      "Number: 489 ['Hq-1']\n",
      "Number: 490 ['STM1']\n",
      "Number: 491 ['STM6']\n",
      "Number: 492 ['46745']\n",
      "Number: 493 ['46746-a']\n",
      "Number: 494 ['46747']\n",
      "Number: 495 ['138862.1']\n",
      "Number: 496 ['138862.2a']\n",
      "Number: 497 ['142828']\n",
      "Number: 498 ['46746-b']\n",
      "Number: 499 ['138862.2b']\n",
      "Number: 500 ['MT1']\n",
      "Number: 501 ['LFG-2']\n",
      "Number: 502 ['2p']\n",
      "Number: 503 ['STAL-B7-7']\n",
      "Number: 504 ['PA-8']\n",
      "Number: 505 ['CA']\n",
      "Number: 506 ['SIR-1']\n",
      "Number: 507 ['BB-1']\n",
      "Number: 508 ['BB-3']\n",
      "Number: 509 ['ocz-6']\n",
      "Number: 510 ['SPD-1']\n",
      "Number: 511 ['SPD-2']\n",
      "Number: 512 ['CAM-1']\n",
      "Number: 513 ['Vic-III-4']\n",
      "Number: 514 ['GCL6']\n",
      "Number: 515 ['PN-95-5']\n",
      "Number: 516 ['Gej-1']\n",
      "Number: 517 ['GZ14-1']\n",
      "Number: 518 ['YB-F1']\n",
      "Number: 519 ['M-1']\n",
      "Number: 520 ['CRC-3']\n",
      "Number: 521 ['CT-1']\n",
      "Number: 522 ['CT-5']\n",
      "Number: 523 ['CT-6']\n",
      "Number: 524 ['CT-7']\n",
      "Number: 525 ['POM1']\n",
      "Number: 526 ['BG41']\n",
      "Number: 527 ['BG66']\n",
      "Number: 528 ['BG67']\n",
      "Number: 529 ['BG611']\n",
      "Number: 530 ['BG6LR']\n",
      "Number: 531 ['Cha2_2019']\n",
      "Number: 532 ['Cha1']\n",
      "Number: 533 ['KOT-I']\n",
      "Number: 534 ['GP2']\n",
      "Number: 535 ['ELC-A']\n",
      "Number: 536 ['ELC-B']\n",
      "Number: 537 ['TM6']\n",
      "Number: 538 ['BNT-2']\n",
      "Number: 539 ['Bu2_2018']\n",
      "Number: 540 ['P00-H2']\n",
      "Number: 541 ['P00-H1']\n",
      "Number: 542 ['P09-H1b']\n",
      "Number: 543 ['P10-H5']\n",
      "Number: 544 ['P10-H2']\n",
      "Number: 545 ['PeruMIS6Composite']\n",
      "Number: 546 ['LSF15']\n",
      "Number: 547 ['LSF3_2018']\n",
      "Number: 548 ['LSF13']\n",
      "Number: 549 ['LSF11']\n",
      "Number: 550 ['LSF9']\n",
      "Number: 551 ['CM_2019']\n",
      "Number: 552 ['CMa']\n",
      "Number: 553 ['CMb']\n",
      "Number: 554 ['PX7_2018']\n",
      "Number: 555 ['PP1']\n",
      "Number: 556 ['LG12B']\n",
      "Number: 557 ['LG10']\n",
      "Number: 558 ['LG25']\n",
      "Number: 559 ['MSP']\n",
      "Number: 560 ['MSX']\n",
      "Number: 561 ['MSH']\n",
      "Number: 562 ['CNKS-2']\n",
      "Number: 563 ['CNKS-3']\n",
      "Number: 564 ['CNKS-7']\n",
      "Number: 565 ['CNKS-9']\n",
      "Number: 566 ['46322']\n",
      "Number: 567 ['46330-a']\n",
      "Number: 568 ['46861']\n",
      "Number: 569 ['50100']\n",
      "Number: 570 ['142819']\n",
      "Number: 571 ['142820']\n",
      "Number: 572 ['46330-b']\n",
      "Number: 573 ['MOD-21']\n",
      "Number: 574 ['BGC-5']\n",
      "Number: 575 ['BGC-10']\n",
      "Number: 576 ['BGC-11_2017']\n",
      "Number: 577 ['BGC-16']\n",
      "Number: 578 ['KNI-51-1']\n",
      "Number: 579 ['KNI-51-8']\n",
      "Number: 580 ['AH-1']\n",
      "Number: 581 ['V1']\n",
      "Number: 582 ['CDR3']\n",
      "Number: 583 ['WR11']\n",
      "Number: 584 ['BA-5']\n",
      "Number: 585 ['BA-7']\n",
      "Number: 586 ['BN-1']\n",
      "Number: 587 ['BN-2']\n",
      "Number: 588 ['BN-3']\n",
      "Number: 589 ['CN-1']\n",
      "Number: 590 ['Disbelief']\n",
      "Number: 591 ['GAR-01_drill']\n",
      "Number: 592 ['GAR-01_laser_d18O']\n",
      "Number: 593 ['GAR-01_laser_d13C']\n",
      "Number: 594 ['TF-2']\n",
      "Number: 595 ['WN-4']\n",
      "Number: 596 ['WN-11']\n",
      "Number: 597 ['GAS-12']\n",
      "Number: 598 ['GAS-13']\n",
      "Number: 599 ['GAS-22']\n",
      "Number: 600 ['GAS-25']\n",
      "Number: 601 ['GAS-27']\n",
      "Number: 602 ['GAS-29']\n",
      "Number: 603 ['HUN-14']\n",
      "Number: 604 ['SCH-6']\n",
      "Number: 605 ['HOL-19']\n",
      "Number: 606 ['CC-1_2018']\n",
      "Number: 607 ['CC-5_2018']\n",
      "Number: 608 ['CC-7_2018']\n",
      "Number: 609 ['CC-28_2018']\n",
      "Number: 610 ['CC27']\n",
      "Number: 611 ['KTR-2']\n",
      "Number: 612 ['TM-17']\n",
      "Number: 613 ['HW-1']\n",
      "Number: 614 ['RK-A']\n",
      "Number: 615 ['RK05-3']\n",
      "Number: 616 ['RK05-4']\n",
      "Number: 617 ['WXSM-51']\n",
      "Number: 618 ['WXSM-52']\n",
      "Number: 619 ['BCC-9']\n",
      "Number: 620 ['BCC-10_2019']\n",
      "Number: 621 ['BCC-30']\n",
      "Number: 622 ['PA-2b']\n",
      "Number: 623 ['WR12-01']\n",
      "Number: 624 ['WR12-12']\n",
      "Number: 625 ['SO-4']\n",
      "Number: 626 ['SO-6']\n",
      "Number: 627 ['WS-5d']\n",
      "Number: 628 ['AB-DC-12_2023']\n",
      "Number: 629 ['Dim-E4_2023']\n",
      "Number: 630 ['BT-2_2007']\n",
      "Number: 631 ['CD3-1_HR']\n",
      "Number: 632 ['CD3-1_LR']\n",
      "Number: 633 ['Vic-III-1']\n",
      "Number: 634 ['Vic-III-3']\n",
      "Number: 635 ['SR01t']\n",
      "Number: 636 ['D3_2005']\n",
      "Number: 637 ['D4_2005_Kelly']\n",
      "Number: 638 ['Andromeda']\n",
      "Number: 639 ['ELC-B_2021']\n",
      "Number: 640 ['HOL1']\n",
      "Number: 641 ['HOL22']\n",
      "Number: 642 ['MSL_2021']\n",
      "Number: 643 ['JAR2']\n",
      "Number: 644 ['LSF13_2018']\n",
      "Number: 645 ['LSF19']\n",
      "Number: 646 ['LSF17']\n",
      "Number: 647 ['LSF13_2021']\n",
      "Number: 648 ['PAR27']\n",
      "Number: 649 ['PAR15']\n",
      "Number: 650 ['PN-95-5_2018']\n",
      "Number: 651 ['Candela_2023']\n",
      "Number: 652 ['Candela_Base']\n",
      "Number: 653 ['Candela_Main']\n",
      "Number: 654 ['Laura']\n",
      "Number: 655 ['Qad_1']\n",
      "Number: 656 ['Qad_2']\n",
      "Number: 657 ['RS1']\n",
      "Number: 658 ['SN35']\n",
      "Number: 659 ['SN31']\n",
      "Number: 660 ['SN29']\n",
      "Number: 661 ['SN17_2021']\n",
      "Number: 662 ['7H-12']\n",
      "Number: 663 ['SPA121_2021']\n",
      "Number: 664 ['SPA146']\n",
      "Number: 665 ['SPA183']\n",
      "Number: 666 ['SPA127_2023']\n",
      "Number: 667 ['TBV5']\n",
      "Number: 668 ['TBV13']\n",
      "Number: 669 ['XL-4']\n",
      "Number: 670 ['S-12-4']\n",
      "Number: 671 ['ABC-1']\n",
      "Number: 672 ['BA18-4']\n",
      "Number: 673 ['BLM-1']\n",
      "Number: 674 ['CC14-6']\n",
      "Number: 675 ['CB4']\n",
      "Number: 676 ['Neith_2022']\n",
      "Number: 677 ['Neith_2015']\n",
      "Number: 678 ['Artemisa_R']\n",
      "Number: 679 ['Angelines']\n",
      "Number: 680 ['PIM4']\n",
      "Number: 681 ['PIM5']\n",
      "Number: 682 ['Dim1']\n",
      "Number: 683 ['142843']\n",
      "Number: 684 ['142846']\n",
      "Number: 685 ['142847']\n",
      "Number: 686 ['142848']\n",
      "Number: 687 ['142849']\n",
      "Number: 688 ['GM1']\n",
      "Number: 689 ['GL-S1']\n",
      "Number: 690 ['GL-S2']\n",
      "Number: 691 ['GL-S3']\n",
      "Number: 692 ['GL-S4']\n",
      "Number: 693 ['HF01']\n",
      "Number: 694 ['HLK2']\n",
      "Number: 695 ['NG01']\n",
      "Number: 696 ['TV1_2021']\n",
      "Number: 697 ['TV1_2020']\n",
      "Number: 698 ['162520']\n",
      "Number: 699 ['162527-1']\n",
      "Number: 700 ['162527-2']\n",
      "Number: 701 ['HC2']\n",
      "Number: 702 ['HBSH-1']\n",
      "Number: 703 ['HBSH-3']\n",
      "Number: 704 ['HBSH-4']\n",
      "Number: 705 ['HBSH-5']\n",
      "Number: 706 ['IFK2']\n",
      "Number: 707 ['JJ0406']\n",
      "Number: 708 ['JJ0403']\n",
      "Number: 709 ['J12']\n",
      "Number: 710 ['J13']\n",
      "Number: 711 ['JL1']\n",
      "Number: 712 ['KT-3']\n",
      "Number: 713 ['K2']\n",
      "Number: 714 ['K4']\n",
      "Number: 715 ['TK7']\n",
      "Number: 716 ['TK20']\n",
      "Number: 717 ['TK40']\n",
      "Number: 718 ['NIR-1']\n",
      "Number: 719 ['NIR-2']\n",
      "Number: 720 ['K4_kyok']\n",
      "Number: 721 ['Gael_2022']\n",
      "Number: 722 ['Gael_2015']\n",
      "Number: 723 ['Gloria']\n",
      "Number: 724 ['Garth']\n",
      "Number: 725 ['Gulda']\n",
      "Number: 726 ['Luna']\n",
      "Number: 727 ['Galia']\n",
      "Number: 728 ['LAVI-15-7']\n",
      "Number: 729 ['LAVI-4_2020']\n",
      "Number: 730 ['PR-LA-1']\n",
      "Number: 731 ['LZ15']\n",
      "Number: 732 ['LZ36']\n",
      "Number: 733 ['MP-2']\n",
      "Number: 734 ['MP-3']\n",
      "Number: 735 ['MV3']\n",
      "Number: 736 ['MAT1']\n",
      "Number: 737 ['MAT12']\n",
      "Number: 738 ['MAT23']\n",
      "Number: 739 ['Maat']\n",
      "Number: 740 ['MS-1']\n",
      "Number: 741 ['MS-2']\n",
      "Number: 742 ['Indiana']\n",
      "Number: 743 ['M37-1-16A']\n",
      "Number: 744 ['M37-1-16C']\n",
      "Number: 745 ['M37-1-23A']\n",
      "Number: 746 ['NG-7']\n",
      "Number: 747 ['NG-3']\n",
      "Number: 748 ['OST2']\n",
      "Number: 749 ['OST1']\n",
      "Number: 750 ['OST3']\n",
      "Number: 751 ['Pentadactylos-1']\n",
      "Number: 752 ['PG11-3']\n",
      "Number: 753 ['Constantine']\n",
      "Number: 754 ['PC']\n",
      "Number: 755 ['QJ1']\n",
      "Number: 756 ['GU-RM-1']\n",
      "Number: 757 ['Séan']\n",
      "Number: 758 ['Multieix']\n",
      "Number: 759 ['Ciara']\n",
      "Number: 760 ['Feni']\n",
      "Number: 761 ['SB61']\n",
      "Number: 762 ['SA1']\n",
      "Number: 763 ['SAR-12-1']\n",
      "Number: 764 ['M6-73-3']\n",
      "Number: 765 ['SC02_2022']\n",
      "Number: 766 ['SJJ7']\n",
      "Number: 767 ['QM09']\n",
      "Number: 768 ['SC1']\n",
      "Number: 769 ['F11']\n",
      "Number: 770 ['F2_Talisman']\n",
      "Number: 771 ['TM5']\n",
      "Number: 772 ['TM4']\n",
      "Number: 773 ['TM11']\n",
      "Number: 774 ['TBR14']\n",
      "Number: 775 ['TBR10-13']\n",
      "Number: 776 ['TRA7']\n",
      "Number: 777 ['PPnda']\n",
      "Number: 778 ['WY12']\n",
      "Number: 779 ['WY13']\n",
      "Number: 780 ['WY14']\n",
      "Number: 781 ['WY56']\n",
      "Number: 782 ['WIN1']\n",
      "Number: 783 ['WIN2']\n",
      "Number: 784 ['WIN3']\n",
      "Number: 785 ['Wulu-30']\n",
      "Number: 786 ['Wu88']\n",
      "Number: 787 ['Wu37']\n",
      "Number: 788 ['XN2']\n",
      "Number: 789 ['XN15']\n",
      "Number: 790 ['JFYK2']\n",
      "Number: 791 ['YZ1']\n",
      "Number: 792 ['YD-S2']\n",
      "Number: 793 ['ZJD171']\n",
      "Number: 794 ['BG2']\n",
      "Number: 795 ['BG4']\n",
      "Number: 796 ['Bu1_2021']\n",
      "Number: 797 ['Bu4_2021']\n",
      "Number: 798 ['Ko-1']\n",
      "Number: 799 ['LSC2']\n",
      "Number: 800 ['LSC3']\n",
      "Number: 801 ['MAW-3']\n",
      "Number: 802 ['NAH14']\n",
      "Number: 803 ['JUD']\n",
      "Number: 804 ['SV1']\n",
      "Number: 805 ['SV7']\n",
      "Number: 806 ['SBE3_2021']\n",
      "Number: 807 ['Boto 3_2021']\n",
      "Number: 808 ['Boto 7_2021']\n",
      "Number: 809 ['SAH-A_2023']\n",
      "Number: 810 ['SAH-B_2023']\n"
     ]
    }
   ],
   "source": [
    "### define parameters (all of those will be saved in a final file)\n",
    "N = len(entities)\n",
    "site_id     = np.zeros(N)\n",
    "site_name   = ['0']*N\n",
    "rock_age    = ['0']*N\n",
    "material    = ['0']*N\n",
    "entity_name = ['0']*N\n",
    "lon         = np.zeros(N)\n",
    "lat         = np.zeros(N)\n",
    "entity_id   = np.zeros(N)\n",
    "mean_O      = np.zeros(N)\n",
    "std_O       = np.zeros(N)\n",
    "# mean_C      = np.zeros(N)\n",
    "# mean_GR     = np.zeros(N)\n",
    "# mean_MgCa   = np.zeros(N)\n",
    "# std_C       = np.zeros(N)\n",
    "# std_GR      = np.zeros(N)\n",
    "# std_MgCa    = np.zeros(N)\n",
    "\n",
    "print('number of entities : ',N)\n",
    "for n in np.arange(0,N):\n",
    "    plt.close(\"all\")    # close all open figures  \n",
    "\n",
    "    this_entity = dating_df.loc[(dating_df['entity_id'] == entities[n])]\n",
    "    #######################################################################\n",
    "\n",
    "    ### already some metadata for individual speleothems\n",
    "    site_id[n]     = entity_df.site_id[(entity_df['entity_id'] == entities[n])].to_numpy()\n",
    "    entity_id[n]   = entity_df.entity_id[(entity_df['entity_id'] == entities[n])].to_numpy()\n",
    "    entity_name[n] = entity_df.entity_name[(entity_df['entity_id'] == entities[n])].to_list()\n",
    "    site_name[n]   = site_df.site_name[(site_df['site_id'] == site_id[n])].to_list()\n",
    "    lon[n]         = site_df.longitude[(site_df['site_id'] == site_id[n]).to_numpy()]\n",
    "    lat[n]         = site_df.latitude[(site_df['site_id'] == site_id[n]).to_numpy()]\n",
    "    \n",
    "    if this_entity.material_dated.dropna().eq('calcite').all():\n",
    "        material[n] = 'calcite'\n",
    "    elif this_entity.material_dated.dropna().eq('aragonite').all():\n",
    "        material[n] = 'aragonite'\n",
    "    else:\n",
    "        material[n] = 'mixed'\n",
    "    print(\"Number:\", n, entity_name[n])\n",
    "    \n",
    "    ### extract isotope data (d18O and d13C) and elements #####################\n",
    "    ids          = sample_df.sample_id[(sample_df['entity_id']==entities[n])].to_numpy()\n",
    "    age          = original_chronology_df.interp_age[original_chronology_df['sample_id'].isin(ids)].to_numpy()\n",
    "    ids_with_age = original_chronology_df.sample_id[original_chronology_df['sample_id'].isin(ids)].to_numpy()\n",
    "    \n",
    "    d18O = d18O_df.d18O_measurement[d18O_df['sample_id'].isin(ids_with_age)].to_numpy()\n",
    "    ids_with_age18 = d18O_df.sample_id[d18O_df['sample_id'].isin(ids_with_age)].to_numpy()\n",
    "    age18 = original_chronology_df.interp_age[original_chronology_df['sample_id'].isin(ids_with_age18)].to_numpy()\n",
    "    \n",
    "    if len(ids_with_age18) != 0:\n",
    "        ### determine the averages \n",
    "        if len(d18O)>0:\n",
    "            mean_O[n] = np.mean(d18O[np.argwhere((age18>=low) & (age18<=high))])\n",
    "            std_O[n] = np.std(d18O[np.argwhere((age18>=low) & (age18<=high))])\n",
    "            \n",
    "        ### define plot\n",
    "        # plt.figure()\n",
    "        # plt.plot(age18,d18O,'-r')\n",
    "        # plt.ylabel(r\"$\\delta^{18}$O \" + u\"[\\u2030 VPDB]\", color='r', fontsize = 15)\n",
    "        # # plt.xlim([low,high])\n",
    "        # plt.tick_params(axis='y', colors='red', labelsize = 12)\n",
    "        # plt.xticks([])\n",
    "\n",
    "    #     fig,ax = plt.subplots(3,1, num='Isotopes+Elements; Entity '+str(int(entity_id[n])),figsize = (10, 7.5),clear = True)\n",
    "\n",
    "    #     ### top plot (MgCa) ###################################################\n",
    "    #     ax[0].plot(ageMgCa,MgCa_1,'-g')\n",
    "    #     ax[0].set_xlim(low,high)\n",
    "    #     ax[0].set_ylabel('Mg/Ca ratio [ ]', color='g', fontsize = 15)\n",
    "    #     ax[0].tick_params(axis='y', colors='green', labelsize = 12)\n",
    "    #     ax[0].tick_params(axis='x', labelsize = 12)\n",
    "    #     ax[0].set_title(str(\"Entity_id: \" + str(entities[n]) +\" (\" +\n",
    "    #             entity.entity_name[(entity['entity_id'] == entities[n])].to_numpy() + \", \" +\n",
    "    #             str(site.site_name[(site['site_id'] == site_id[n])])[5:-31] +\n",
    "    #             \")\")[2:-2],fontsize = 20, x=0.5, y=1.3)\n",
    "    #     ax[0].xaxis.tick_top()\n",
    "    #     #######################################################################\n",
    "\n",
    "    #     ### plot isotopes in center subplot\n",
    "    #     ax[1].plot(age,d18O,'-r')\n",
    "    #     if len(d13C_1)==len(age):\n",
    "    #         ax3 = ax[1].twinx()\n",
    "    #         ax3.plot(age13,d13C_1,'-b')\n",
    "    #         ax3.tick_params(axis='y', colors='blue', labelsize = 12)\n",
    "    #         ax3.set_ylabel(r\"$\\delta^{13}$C \" + u\"[\\u2030 VPDB]\", color='b', fontsize = 15) #use u\"[\\u2030]\" for permil sign\n",
    "\n",
    "    #     ax[1].set_ylabel(r\"$\\delta^{18}$O \" + u\"[\\u2030 VPDB]\", color='r', fontsize = 15)\n",
    "    #     ax[1].set_xlim(low,high)\n",
    "    #     ax[1].tick_params(axis='y', colors='red', labelsize = 12)\n",
    "    #     ax[1].set_xticks([])\n",
    "    #     ###################################################################\n",
    "        \n",
    "        \n",
    "    #     ### bottom plot (growth rate after isotope depth) #################\n",
    "    #     #ax[2].stairs(age,gr,'k')\n",
    "    #     ax[2].stairs(gr[0:-1],age, color='black', baseline=None)\n",
    "    #     ax[2].set_ylabel('growth rate \\n [mm/a]', fontsize = 15)\n",
    "    #     ax[2].set_xlabel('age [a BP]', fontsize = 15)\n",
    "    #     ax[2].set_xlim(low, high)\n",
    "    #     ax[2].tick_params(axis='both', labelsize = 12)\n",
    "    #     ax[2].xaxis.set_label_coords(.5, -.2)\n",
    "    #     ###################################################################\n",
    "\n",
    "    # fig.subplots_adjust(wspace=0, hspace=0, top=0.85)\n",
    "    # fig.savefig('tests/'+ str(entities[n]) +'_'+ entity.entity_name[(entity['entity_id'] == entities[n])].to_list()[0] +'.png',dpi=300)\n",
    "\n",
    "\n",
    "### save file and produce an overview plot\n",
    "output = pd.DataFrame({'site_id':site_id, 'site_name':site_name,\n",
    "                        'longitude':lon, 'latitude':lat,\n",
    "                        'entity_id':entity_id, 'eintity_name':entity_name,\n",
    "                        'material':material, \n",
    "                        'mean_d18O':mean_O, 'std_d18O':std_O,\n",
    "                        # 'mean_GR [mm/a]':mean_GR, 'std_GR [mm/a]':std_GR,\n",
    "                        # 'mean_d13C':mean_C, 'std_d13C':std_C,\n",
    "                        # 'mean_MgCa':mean_MgCa, 'std_MgCa':std_MgCa\n",
    "                      })\n",
    "\n",
    "output.replace(0, np.nan, inplace=True)\n",
    "output.to_csv('../output/meanstd_values_d18O_sisal.csv')"
   ]
  },
  {
   "cell_type": "markdown",
   "id": "169d95d9",
   "metadata": {},
   "source": [
    "Plot map of the mean d18Oc over the time range previously defined and save it (3D and projection)"
   ]
  },
  {
   "cell_type": "code",
   "execution_count": 5,
   "id": "fb7fc1e2",
   "metadata": {},
   "outputs": [
    {
     "data": {
      "application/vnd.plotly.v1+json": {
       "config": {
        "plotlyServerURL": "https://plot.ly"
       },
       "data": [
        {
         "lat": {
          "bdata": "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",
          "dtype": "f8"
         },
         "lon": {
          "bdata": "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",
          "dtype": "f8"
         },
         "marker": {
          "cmax": 0,
          "cmin": -15.5,
          "color": {
           "bdata": "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",
           "dtype": "f8"
          },
          "colorbar": {
           "thickness": 15,
           "ticklen": 6,
           "ticks": "outside",
           "title": {
            "text": "δ18O (‰ VPDB)"
           }
          },
          "colorscale": [
           [
            0,
            "#000000"
           ],
           [
            0.0625,
            "#001f4d"
           ],
           [
            0.125,
            "#003786"
           ],
           [
            0.1875,
            "#0e58a8"
           ],
           [
            0.25,
            "#217eb8"
           ],
           [
            0.3125,
            "#30a4ca"
           ],
           [
            0.375,
            "#54c8df"
           ],
           [
            0.4375,
            "#9be4ef"
           ],
           [
            0.5,
            "#e1e9d1"
           ],
           [
            0.5625,
            "#f3d573"
           ],
           [
            0.625,
            "#e7b000"
           ],
           [
            0.6875,
            "#da8200"
           ],
           [
            0.75,
            "#c65400"
           ],
           [
            0.8125,
            "#ac2301"
           ],
           [
            0.875,
            "#820000"
           ],
           [
            0.9375,
            "#4c0000"
           ],
           [
            1,
            "#000000"
           ]
          ],
          "line": {
           "color": "white",
           "width": 1
          },
          "opacity": 0.7,
          "size": 10,
          "symbol": "triangle-up"
         },
         "mode": "markers",
         "text": {
          "bdata": "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",
          "dtype": "f8"
         },
         "type": "scattergeo"
        }
       ],
       "layout": {
        "geo": {
         "landcolor": "#f0f0f0",
         "oceancolor": "#def4fd",
         "projection": {
          "rotation": {
           "lat": 12,
           "lon": 0
          },
          "type": "orthographic"
         },
         "showcoastlines": false,
         "showcountries": false,
         "showframe": false,
         "showland": true,
         "showocean": true
        },
        "margin": {
         "b": 20,
         "l": 20,
         "r": 20,
         "t": 50
        },
        "template": {
         "data": {
          "bar": [
           {
            "error_x": {
             "color": "#2a3f5f"
            },
            "error_y": {
             "color": "#2a3f5f"
            },
            "marker": {
             "line": {
              "color": "white",
              "width": 0.5
             },
             "pattern": {
              "fillmode": "overlay",
              "size": 10,
              "solidity": 0.2
             }
            },
            "type": "bar"
           }
          ],
          "barpolar": [
           {
            "marker": {
             "line": {
              "color": "white",
              "width": 0.5
             },
             "pattern": {
              "fillmode": "overlay",
              "size": 10,
              "solidity": 0.2
             }
            },
            "type": "barpolar"
           }
          ],
          "carpet": [
           {
            "aaxis": {
             "endlinecolor": "#2a3f5f",
             "gridcolor": "#C8D4E3",
             "linecolor": "#C8D4E3",
             "minorgridcolor": "#C8D4E3",
             "startlinecolor": "#2a3f5f"
            },
            "baxis": {
             "endlinecolor": "#2a3f5f",
             "gridcolor": "#C8D4E3",
             "linecolor": "#C8D4E3",
             "minorgridcolor": "#C8D4E3",
             "startlinecolor": "#2a3f5f"
            },
            "type": "carpet"
           }
          ],
          "choropleth": [
           {
            "colorbar": {
             "outlinewidth": 0,
             "ticks": ""
            },
            "type": "choropleth"
           }
          ],
          "contour": [
           {
            "colorbar": {
             "outlinewidth": 0,
             "ticks": ""
            },
            "colorscale": [
             [
              0,
              "#0d0887"
             ],
             [
              0.1111111111111111,
              "#46039f"
             ],
             [
              0.2222222222222222,
              "#7201a8"
             ],
             [
              0.3333333333333333,
              "#9c179e"
             ],
             [
              0.4444444444444444,
              "#bd3786"
             ],
             [
              0.5555555555555556,
              "#d8576b"
             ],
             [
              0.6666666666666666,
              "#ed7953"
             ],
             [
              0.7777777777777778,
              "#fb9f3a"
             ],
             [
              0.8888888888888888,
              "#fdca26"
             ],
             [
              1,
              "#f0f921"
             ]
            ],
            "type": "contour"
           }
          ],
          "contourcarpet": [
           {
            "colorbar": {
             "outlinewidth": 0,
             "ticks": ""
            },
            "type": "contourcarpet"
           }
          ],
          "heatmap": [
           {
            "colorbar": {
             "outlinewidth": 0,
             "ticks": ""
            },
            "colorscale": [
             [
              0,
              "#0d0887"
             ],
             [
              0.1111111111111111,
              "#46039f"
             ],
             [
              0.2222222222222222,
              "#7201a8"
             ],
             [
              0.3333333333333333,
              "#9c179e"
             ],
             [
              0.4444444444444444,
              "#bd3786"
             ],
             [
              0.5555555555555556,
              "#d8576b"
             ],
             [
              0.6666666666666666,
              "#ed7953"
             ],
             [
              0.7777777777777778,
              "#fb9f3a"
             ],
             [
              0.8888888888888888,
              "#fdca26"
             ],
             [
              1,
              "#f0f921"
             ]
            ],
            "type": "heatmap"
           }
          ],
          "histogram": [
           {
            "marker": {
             "pattern": {
              "fillmode": "overlay",
              "size": 10,
              "solidity": 0.2
             }
            },
            "type": "histogram"
           }
          ],
          "histogram2d": [
           {
            "colorbar": {
             "outlinewidth": 0,
             "ticks": ""
            },
            "colorscale": [
             [
              0,
              "#0d0887"
             ],
             [
              0.1111111111111111,
              "#46039f"
             ],
             [
              0.2222222222222222,
              "#7201a8"
             ],
             [
              0.3333333333333333,
              "#9c179e"
             ],
             [
              0.4444444444444444,
              "#bd3786"
             ],
             [
              0.5555555555555556,
              "#d8576b"
             ],
             [
              0.6666666666666666,
              "#ed7953"
             ],
             [
              0.7777777777777778,
              "#fb9f3a"
             ],
             [
              0.8888888888888888,
              "#fdca26"
             ],
             [
              1,
              "#f0f921"
             ]
            ],
            "type": "histogram2d"
           }
          ],
          "histogram2dcontour": [
           {
            "colorbar": {
             "outlinewidth": 0,
             "ticks": ""
            },
            "colorscale": [
             [
              0,
              "#0d0887"
             ],
             [
              0.1111111111111111,
              "#46039f"
             ],
             [
              0.2222222222222222,
              "#7201a8"
             ],
             [
              0.3333333333333333,
              "#9c179e"
             ],
             [
              0.4444444444444444,
              "#bd3786"
             ],
             [
              0.5555555555555556,
              "#d8576b"
             ],
             [
              0.6666666666666666,
              "#ed7953"
             ],
             [
              0.7777777777777778,
              "#fb9f3a"
             ],
             [
              0.8888888888888888,
              "#fdca26"
             ],
             [
              1,
              "#f0f921"
             ]
            ],
            "type": "histogram2dcontour"
           }
          ],
          "mesh3d": [
           {
            "colorbar": {
             "outlinewidth": 0,
             "ticks": ""
            },
            "type": "mesh3d"
           }
          ],
          "parcoords": [
           {
            "line": {
             "colorbar": {
              "outlinewidth": 0,
              "ticks": ""
             }
            },
            "type": "parcoords"
           }
          ],
          "pie": [
           {
            "automargin": true,
            "type": "pie"
           }
          ],
          "scatter": [
           {
            "fillpattern": {
             "fillmode": "overlay",
             "size": 10,
             "solidity": 0.2
            },
            "type": "scatter"
           }
          ],
          "scatter3d": [
           {
            "line": {
             "colorbar": {
              "outlinewidth": 0,
              "ticks": ""
             }
            },
            "marker": {
             "colorbar": {
              "outlinewidth": 0,
              "ticks": ""
             }
            },
            "type": "scatter3d"
           }
          ],
          "scattercarpet": [
           {
            "marker": {
             "colorbar": {
              "outlinewidth": 0,
              "ticks": ""
             }
            },
            "type": "scattercarpet"
           }
          ],
          "scattergeo": [
           {
            "marker": {
             "colorbar": {
              "outlinewidth": 0,
              "ticks": ""
             }
            },
            "type": "scattergeo"
           }
          ],
          "scattergl": [
           {
            "marker": {
             "colorbar": {
              "outlinewidth": 0,
              "ticks": ""
             }
            },
            "type": "scattergl"
           }
          ],
          "scattermap": [
           {
            "marker": {
             "colorbar": {
              "outlinewidth": 0,
              "ticks": ""
             }
            },
            "type": "scattermap"
           }
          ],
          "scattermapbox": [
           {
            "marker": {
             "colorbar": {
              "outlinewidth": 0,
              "ticks": ""
             }
            },
            "type": "scattermapbox"
           }
          ],
          "scatterpolar": [
           {
            "marker": {
             "colorbar": {
              "outlinewidth": 0,
              "ticks": ""
             }
            },
            "type": "scatterpolar"
           }
          ],
          "scatterpolargl": [
           {
            "marker": {
             "colorbar": {
              "outlinewidth": 0,
              "ticks": ""
             }
            },
            "type": "scatterpolargl"
           }
          ],
          "scatterternary": [
           {
            "marker": {
             "colorbar": {
              "outlinewidth": 0,
              "ticks": ""
             }
            },
            "type": "scatterternary"
           }
          ],
          "surface": [
           {
            "colorbar": {
             "outlinewidth": 0,
             "ticks": ""
            },
            "colorscale": [
             [
              0,
              "#0d0887"
             ],
             [
              0.1111111111111111,
              "#46039f"
             ],
             [
              0.2222222222222222,
              "#7201a8"
             ],
             [
              0.3333333333333333,
              "#9c179e"
             ],
             [
              0.4444444444444444,
              "#bd3786"
             ],
             [
              0.5555555555555556,
              "#d8576b"
             ],
             [
              0.6666666666666666,
              "#ed7953"
             ],
             [
              0.7777777777777778,
              "#fb9f3a"
             ],
             [
              0.8888888888888888,
              "#fdca26"
             ],
             [
              1,
              "#f0f921"
             ]
            ],
            "type": "surface"
           }
          ],
          "table": [
           {
            "cells": {
             "fill": {
              "color": "#EBF0F8"
             },
             "line": {
              "color": "white"
             }
            },
            "header": {
             "fill": {
              "color": "#C8D4E3"
             },
             "line": {
              "color": "white"
             }
            },
            "type": "table"
           }
          ]
         },
         "layout": {
          "annotationdefaults": {
           "arrowcolor": "#2a3f5f",
           "arrowhead": 0,
           "arrowwidth": 1
          },
          "autotypenumbers": "strict",
          "coloraxis": {
           "colorbar": {
            "outlinewidth": 0,
            "ticks": ""
           }
          },
          "colorscale": {
           "diverging": [
            [
             0,
             "#8e0152"
            ],
            [
             0.1,
             "#c51b7d"
            ],
            [
             0.2,
             "#de77ae"
            ],
            [
             0.3,
             "#f1b6da"
            ],
            [
             0.4,
             "#fde0ef"
            ],
            [
             0.5,
             "#f7f7f7"
            ],
            [
             0.6,
             "#e6f5d0"
            ],
            [
             0.7,
             "#b8e186"
            ],
            [
             0.8,
             "#7fbc41"
            ],
            [
             0.9,
             "#4d9221"
            ],
            [
             1,
             "#276419"
            ]
           ],
           "sequential": [
            [
             0,
             "#0d0887"
            ],
            [
             0.1111111111111111,
             "#46039f"
            ],
            [
             0.2222222222222222,
             "#7201a8"
            ],
            [
             0.3333333333333333,
             "#9c179e"
            ],
            [
             0.4444444444444444,
             "#bd3786"
            ],
            [
             0.5555555555555556,
             "#d8576b"
            ],
            [
             0.6666666666666666,
             "#ed7953"
            ],
            [
             0.7777777777777778,
             "#fb9f3a"
            ],
            [
             0.8888888888888888,
             "#fdca26"
            ],
            [
             1,
             "#f0f921"
            ]
           ],
           "sequentialminus": [
            [
             0,
             "#0d0887"
            ],
            [
             0.1111111111111111,
             "#46039f"
            ],
            [
             0.2222222222222222,
             "#7201a8"
            ],
            [
             0.3333333333333333,
             "#9c179e"
            ],
            [
             0.4444444444444444,
             "#bd3786"
            ],
            [
             0.5555555555555556,
             "#d8576b"
            ],
            [
             0.6666666666666666,
             "#ed7953"
            ],
            [
             0.7777777777777778,
             "#fb9f3a"
            ],
            [
             0.8888888888888888,
             "#fdca26"
            ],
            [
             1,
             "#f0f921"
            ]
           ]
          },
          "colorway": [
           "#636efa",
           "#EF553B",
           "#00cc96",
           "#ab63fa",
           "#FFA15A",
           "#19d3f3",
           "#FF6692",
           "#B6E880",
           "#FF97FF",
           "#FECB52"
          ],
          "font": {
           "color": "#2a3f5f"
          },
          "geo": {
           "bgcolor": "white",
           "lakecolor": "white",
           "landcolor": "white",
           "showlakes": true,
           "showland": true,
           "subunitcolor": "#C8D4E3"
          },
          "hoverlabel": {
           "align": "left"
          },
          "hovermode": "closest",
          "mapbox": {
           "style": "light"
          },
          "paper_bgcolor": "white",
          "plot_bgcolor": "white",
          "polar": {
           "angularaxis": {
            "gridcolor": "#EBF0F8",
            "linecolor": "#EBF0F8",
            "ticks": ""
           },
           "bgcolor": "white",
           "radialaxis": {
            "gridcolor": "#EBF0F8",
            "linecolor": "#EBF0F8",
            "ticks": ""
           }
          },
          "scene": {
           "xaxis": {
            "backgroundcolor": "white",
            "gridcolor": "#DFE8F3",
            "gridwidth": 2,
            "linecolor": "#EBF0F8",
            "showbackground": true,
            "ticks": "",
            "zerolinecolor": "#EBF0F8"
           },
           "yaxis": {
            "backgroundcolor": "white",
            "gridcolor": "#DFE8F3",
            "gridwidth": 2,
            "linecolor": "#EBF0F8",
            "showbackground": true,
            "ticks": "",
            "zerolinecolor": "#EBF0F8"
           },
           "zaxis": {
            "backgroundcolor": "white",
            "gridcolor": "#DFE8F3",
            "gridwidth": 2,
            "linecolor": "#EBF0F8",
            "showbackground": true,
            "ticks": "",
            "zerolinecolor": "#EBF0F8"
           }
          },
          "shapedefaults": {
           "line": {
            "color": "#2a3f5f"
           }
          },
          "ternary": {
           "aaxis": {
            "gridcolor": "#DFE8F3",
            "linecolor": "#A2B1C6",
            "ticks": ""
           },
           "baxis": {
            "gridcolor": "#DFE8F3",
            "linecolor": "#A2B1C6",
            "ticks": ""
           },
           "bgcolor": "white",
           "caxis": {
            "gridcolor": "#DFE8F3",
            "linecolor": "#A2B1C6",
            "ticks": ""
           }
          },
          "title": {
           "x": 0.05
          },
          "xaxis": {
           "automargin": true,
           "gridcolor": "#EBF0F8",
           "linecolor": "#EBF0F8",
           "ticks": "",
           "title": {
            "standoff": 15
           },
           "zerolinecolor": "#EBF0F8",
           "zerolinewidth": 2
          },
          "yaxis": {
           "automargin": true,
           "gridcolor": "#EBF0F8",
           "linecolor": "#EBF0F8",
           "ticks": "",
           "title": {
            "standoff": 15
           },
           "zerolinecolor": "#EBF0F8",
           "zerolinewidth": 2
          }
         }
        },
        "title": {
         "font": {
          "family": "Arial, sans-serif",
          "size": 20
         },
         "text": "Global δ18O Distribution",
         "x": 0.5,
         "xanchor": "center"
        }
       }
      }
     },
     "metadata": {},
     "output_type": "display_data"
    }
   ],
   "source": [
    "out1 = output.dropna(subset='mean_d18O') # remove all 'nan' in mean d18O for plotting purposes\n",
    "\n",
    "fig = go.Figure()\n",
    "\n",
    "fig.add_trace(go.Scattergeo(\n",
    "    lon=out1[\"longitude\"],\n",
    "    lat=out1[\"latitude\"],\n",
    "    text=out1[\"mean_d18O\"],\n",
    "    mode=\"markers\",\n",
    "    marker=dict(\n",
    "        symbol=\"triangle-up\",\n",
    "        size=10,\n",
    "        color=out1[\"mean_d18O\"],\n",
    "        colorscale=\"icefire\",   # modern colormap\n",
    "        cmin=-15.5,\n",
    "        cmax=0,\n",
    "        opacity=0.7,\n",
    "        line=dict(color=\"white\", width=1),\n",
    "        colorbar=dict(\n",
    "            title=\"δ18O (‰ VPDB)\",\n",
    "            ticks=\"outside\",\n",
    "            ticklen=6,\n",
    "            thickness=15\n",
    "        )\n",
    "    )\n",
    "))\n",
    "\n",
    "fig.update_layout(\n",
    "    geo=dict(\n",
    "        projection=dict(type=\"orthographic\", rotation=dict(lat=12, lon=0)),\n",
    "        showland=True,\n",
    "        landcolor=\"#f0f0f0\",\n",
    "        showocean=True,\n",
    "        oceancolor=\"#def4fd\",\n",
    "        showcountries=False,\n",
    "        showcoastlines=False,\n",
    "        showframe=False\n",
    "    ),\n",
    "    title=dict(\n",
    "        text=\"Global δ18O Distribution\",\n",
    "        x=0.5,\n",
    "        xanchor=\"center\",\n",
    "        font=dict(size=20, family=\"Arial, sans-serif\")\n",
    "    ),\n",
    "    margin=dict(r=20, l=20, t=50, b=20),\n",
    "    template=\"plotly_white\"\n",
    ")\n",
    "fig.write_html(\"../output/mean_values_d18O_interactive_map_sisal.html\", include_plotlyjs=\"cdn\")\n",
    "fig.show()\n",
    "\n",
    "fig.update_layout(\n",
    "    geo=dict(\n",
    "        projection=dict(type=\"natural earth\"),\n",
    "        showland=True,\n",
    "        landcolor=\"#f0f0f0\",\n",
    "        showocean=True,\n",
    "        oceancolor=\"#dff4fd\",\n",
    "        showcountries=False,\n",
    "        showcoastlines=True,\n",
    "        showframe=False\n",
    "    )\n",
    ")\n",
    "\n",
    "fig.write_image(\"../output/mean_values_d18O_map_sisal.png\", scale=3)"
   ]
  }
 ],
 "metadata": {
  "kernelspec": {
   "display_name": "netcdf4",
   "language": "python",
   "name": "python3"
  },
  "language_info": {
   "codemirror_mode": {
    "name": "ipython",
    "version": 3
   },
   "file_extension": ".py",
   "mimetype": "text/x-python",
   "name": "python",
   "nbconvert_exporter": "python",
   "pygments_lexer": "ipython3",
   "version": "3.13.0"
  }
 },
 "nbformat": 4,
 "nbformat_minor": 5
}
